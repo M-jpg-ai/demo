{
 "cells": [
  {
   "cell_type": "markdown",
   "id": "8f183a75",
   "metadata": {},
   "source": [
    "# Making a model to predict the selling price of a car"
   ]
  },
  {
   "cell_type": "code",
   "execution_count": 1,
   "id": "ee6fcdfa",
   "metadata": {},
   "outputs": [],
   "source": [
    "#importing required libraries\n",
    "\n",
    "import numpy as np\n",
    "import pandas as pd\n",
    "import matplotlib.pyplot as plt\n",
    "from sklearn.neighbors import KNeighborsClassifier \n",
    "from sklearn.model_selection import train_test_split\n",
    "from sklearn.preprocessing import StandardScaler \n",
    "# from tensorflow.keras import Sequential\n",
    "# from tensorflow.keras.layers import Dense\n",
    "from tensorflow.keras.utils import to_categorical"
   ]
  },
  {
   "cell_type": "code",
   "execution_count": 2,
   "id": "1239f678",
   "metadata": {},
   "outputs": [],
   "source": [
    "#creating our dataframe\n",
    "\n",
    "df = pd.read_csv(\"data/CAR DETAILS.csv\",header=None)\n",
    "df = df.drop([7],axis=1)\n",
    "names = ['year','km_driven','fuel','seller_type','transmission','owner','selling_price']\n",
    "df.columns = names"
   ]
  },
  {
   "cell_type": "markdown",
   "id": "c038d265",
   "metadata": {},
   "source": [
    "This is how our dataframe looks like now."
   ]
  },
  {
   "cell_type": "code",
   "execution_count": 3,
   "id": "9cdd4743",
   "metadata": {},
   "outputs": [
    {
     "data": {
      "text/html": [
       "<div>\n",
       "<style scoped>\n",
       "    .dataframe tbody tr th:only-of-type {\n",
       "        vertical-align: middle;\n",
       "    }\n",
       "\n",
       "    .dataframe tbody tr th {\n",
       "        vertical-align: top;\n",
       "    }\n",
       "\n",
       "    .dataframe thead th {\n",
       "        text-align: right;\n",
       "    }\n",
       "</style>\n",
       "<table border=\"1\" class=\"dataframe\">\n",
       "  <thead>\n",
       "    <tr style=\"text-align: right;\">\n",
       "      <th></th>\n",
       "      <th>year</th>\n",
       "      <th>km_driven</th>\n",
       "      <th>fuel</th>\n",
       "      <th>seller_type</th>\n",
       "      <th>transmission</th>\n",
       "      <th>owner</th>\n",
       "      <th>selling_price</th>\n",
       "    </tr>\n",
       "  </thead>\n",
       "  <tbody>\n",
       "    <tr>\n",
       "      <th>0</th>\n",
       "      <td>2007</td>\n",
       "      <td>70000</td>\n",
       "      <td>Petrol</td>\n",
       "      <td>Individual</td>\n",
       "      <td>Manual</td>\n",
       "      <td>First Owner</td>\n",
       "      <td>60000</td>\n",
       "    </tr>\n",
       "    <tr>\n",
       "      <th>1</th>\n",
       "      <td>2007</td>\n",
       "      <td>50000</td>\n",
       "      <td>Petrol</td>\n",
       "      <td>Individual</td>\n",
       "      <td>Manual</td>\n",
       "      <td>First Owner</td>\n",
       "      <td>135000</td>\n",
       "    </tr>\n",
       "    <tr>\n",
       "      <th>2</th>\n",
       "      <td>2012</td>\n",
       "      <td>100000</td>\n",
       "      <td>Diesel</td>\n",
       "      <td>Individual</td>\n",
       "      <td>Manual</td>\n",
       "      <td>First Owner</td>\n",
       "      <td>600000</td>\n",
       "    </tr>\n",
       "    <tr>\n",
       "      <th>3</th>\n",
       "      <td>2017</td>\n",
       "      <td>46000</td>\n",
       "      <td>Petrol</td>\n",
       "      <td>Individual</td>\n",
       "      <td>Manual</td>\n",
       "      <td>First Owner</td>\n",
       "      <td>250000</td>\n",
       "    </tr>\n",
       "    <tr>\n",
       "      <th>4</th>\n",
       "      <td>2014</td>\n",
       "      <td>141000</td>\n",
       "      <td>Diesel</td>\n",
       "      <td>Individual</td>\n",
       "      <td>Manual</td>\n",
       "      <td>Second Owner</td>\n",
       "      <td>450000</td>\n",
       "    </tr>\n",
       "    <tr>\n",
       "      <th>...</th>\n",
       "      <td>...</td>\n",
       "      <td>...</td>\n",
       "      <td>...</td>\n",
       "      <td>...</td>\n",
       "      <td>...</td>\n",
       "      <td>...</td>\n",
       "      <td>...</td>\n",
       "    </tr>\n",
       "    <tr>\n",
       "      <th>4335</th>\n",
       "      <td>2014</td>\n",
       "      <td>80000</td>\n",
       "      <td>Diesel</td>\n",
       "      <td>Individual</td>\n",
       "      <td>Manual</td>\n",
       "      <td>Second Owner</td>\n",
       "      <td>409999</td>\n",
       "    </tr>\n",
       "    <tr>\n",
       "      <th>4336</th>\n",
       "      <td>2014</td>\n",
       "      <td>80000</td>\n",
       "      <td>Diesel</td>\n",
       "      <td>Individual</td>\n",
       "      <td>Manual</td>\n",
       "      <td>Second Owner</td>\n",
       "      <td>409999</td>\n",
       "    </tr>\n",
       "    <tr>\n",
       "      <th>4337</th>\n",
       "      <td>2009</td>\n",
       "      <td>83000</td>\n",
       "      <td>Petrol</td>\n",
       "      <td>Individual</td>\n",
       "      <td>Manual</td>\n",
       "      <td>Second Owner</td>\n",
       "      <td>110000</td>\n",
       "    </tr>\n",
       "    <tr>\n",
       "      <th>4338</th>\n",
       "      <td>2016</td>\n",
       "      <td>90000</td>\n",
       "      <td>Diesel</td>\n",
       "      <td>Individual</td>\n",
       "      <td>Manual</td>\n",
       "      <td>First Owner</td>\n",
       "      <td>865000</td>\n",
       "    </tr>\n",
       "    <tr>\n",
       "      <th>4339</th>\n",
       "      <td>2016</td>\n",
       "      <td>40000</td>\n",
       "      <td>Petrol</td>\n",
       "      <td>Individual</td>\n",
       "      <td>Manual</td>\n",
       "      <td>First Owner</td>\n",
       "      <td>225000</td>\n",
       "    </tr>\n",
       "  </tbody>\n",
       "</table>\n",
       "<p>4340 rows × 7 columns</p>\n",
       "</div>"
      ],
      "text/plain": [
       "      year  km_driven    fuel seller_type transmission         owner  \\\n",
       "0     2007      70000  Petrol  Individual       Manual   First Owner   \n",
       "1     2007      50000  Petrol  Individual       Manual   First Owner   \n",
       "2     2012     100000  Diesel  Individual       Manual   First Owner   \n",
       "3     2017      46000  Petrol  Individual       Manual   First Owner   \n",
       "4     2014     141000  Diesel  Individual       Manual  Second Owner   \n",
       "...    ...        ...     ...         ...          ...           ...   \n",
       "4335  2014      80000  Diesel  Individual       Manual  Second Owner   \n",
       "4336  2014      80000  Diesel  Individual       Manual  Second Owner   \n",
       "4337  2009      83000  Petrol  Individual       Manual  Second Owner   \n",
       "4338  2016      90000  Diesel  Individual       Manual   First Owner   \n",
       "4339  2016      40000  Petrol  Individual       Manual   First Owner   \n",
       "\n",
       "      selling_price  \n",
       "0             60000  \n",
       "1            135000  \n",
       "2            600000  \n",
       "3            250000  \n",
       "4            450000  \n",
       "...             ...  \n",
       "4335         409999  \n",
       "4336         409999  \n",
       "4337         110000  \n",
       "4338         865000  \n",
       "4339         225000  \n",
       "\n",
       "[4340 rows x 7 columns]"
      ]
     },
     "execution_count": 3,
     "metadata": {},
     "output_type": "execute_result"
    }
   ],
   "source": [
    "df"
   ]
  },
  {
   "cell_type": "code",
   "execution_count": 4,
   "id": "67ab3e9b",
   "metadata": {},
   "outputs": [
    {
     "name": "stdout",
     "output_type": "stream",
     "text": [
      "<class 'pandas.core.frame.DataFrame'>\n",
      "RangeIndex: 4340 entries, 0 to 4339\n",
      "Data columns (total 7 columns):\n",
      " #   Column         Non-Null Count  Dtype \n",
      "---  ------         --------------  ----- \n",
      " 0   year           4340 non-null   int64 \n",
      " 1   km_driven      4340 non-null   int64 \n",
      " 2   fuel           4340 non-null   object\n",
      " 3   seller_type    4340 non-null   object\n",
      " 4   transmission   4340 non-null   object\n",
      " 5   owner          4340 non-null   object\n",
      " 6   selling_price  4340 non-null   int64 \n",
      "dtypes: int64(3), object(4)\n",
      "memory usage: 237.5+ KB\n"
     ]
    }
   ],
   "source": [
    "df.info()"
   ]
  },
  {
   "cell_type": "markdown",
   "id": "a2a4d646",
   "metadata": {},
   "source": [
    "We see we have no value which is null.Now you can also see we have datatypes other than Integers when we use df.info(), so now we need to encode the non-integer values to integers. So first we need to know the unique values of each column and then encode for each unique value."
   ]
  },
  {
   "cell_type": "code",
   "execution_count": 5,
   "id": "e56e9d73",
   "metadata": {},
   "outputs": [
    {
     "data": {
      "text/plain": [
       "array(['CNG', 'Diesel', 'Electric', 'LPG', 'Petrol'], dtype=object)"
      ]
     },
     "execution_count": 5,
     "metadata": {},
     "output_type": "execute_result"
    }
   ],
   "source": [
    "np.unique(df.fuel)"
   ]
  },
  {
   "cell_type": "code",
   "execution_count": 6,
   "id": "9b22d862",
   "metadata": {},
   "outputs": [
    {
     "name": "stdout",
     "output_type": "stream",
     "text": [
      "[[0. 0. 0. 0. 1.]\n",
      " [0. 0. 0. 0. 1.]\n",
      " [0. 1. 0. 0. 0.]\n",
      " ...\n",
      " [0. 0. 0. 0. 1.]\n",
      " [0. 1. 0. 0. 0.]\n",
      " [0. 0. 0. 0. 1.]]\n"
     ]
    }
   ],
   "source": [
    "#encoding fuels\n",
    "\n",
    "label_encode = {\"fuel\":{\"CNG\":0,\"Diesel\":1,\"Electric\":2,\"LPG\":3,\"Petrol\":4}}\n",
    "df.replace(label_encode,inplace=True)\n",
    "values = df['fuel']\n",
    "values = to_categorical(values)\n",
    "print(values)"
   ]
  },
  {
   "cell_type": "code",
   "execution_count": 7,
   "id": "90f0b35e",
   "metadata": {},
   "outputs": [
    {
     "data": {
      "text/plain": [
       "array(['Dealer', 'Individual', 'Trustmark Dealer'], dtype=object)"
      ]
     },
     "execution_count": 7,
     "metadata": {},
     "output_type": "execute_result"
    }
   ],
   "source": [
    "np.unique(df.seller_type)"
   ]
  },
  {
   "cell_type": "code",
   "execution_count": 8,
   "id": "5fe7253d",
   "metadata": {},
   "outputs": [
    {
     "name": "stdout",
     "output_type": "stream",
     "text": [
      "[[0. 1. 0.]\n",
      " [0. 1. 0.]\n",
      " [0. 1. 0.]\n",
      " ...\n",
      " [0. 1. 0.]\n",
      " [0. 1. 0.]\n",
      " [0. 1. 0.]]\n"
     ]
    }
   ],
   "source": [
    "#encoding seller type\n",
    "\n",
    "label_encode = {\"seller_type\":{\"Dealer\":0,\"Individual\":1,\"Trustmark Dealer\":2}}\n",
    "df.replace(label_encode,inplace=True)\n",
    "values = df['seller_type']\n",
    "values = to_categorical(values)\n",
    "print(values)"
   ]
  },
  {
   "cell_type": "code",
   "execution_count": 9,
   "id": "ab77ad4c",
   "metadata": {},
   "outputs": [
    {
     "data": {
      "text/plain": [
       "array(['Automatic', 'Manual'], dtype=object)"
      ]
     },
     "execution_count": 9,
     "metadata": {},
     "output_type": "execute_result"
    }
   ],
   "source": [
    "np.unique(df.transmission)"
   ]
  },
  {
   "cell_type": "code",
   "execution_count": 10,
   "id": "0d15aec7",
   "metadata": {},
   "outputs": [
    {
     "name": "stdout",
     "output_type": "stream",
     "text": [
      "[[0. 1.]\n",
      " [0. 1.]\n",
      " [0. 1.]\n",
      " ...\n",
      " [0. 1.]\n",
      " [0. 1.]\n",
      " [0. 1.]]\n"
     ]
    }
   ],
   "source": [
    "#encoding transmission\n",
    "\n",
    "label_encode = {\"transmission\":{\"Automatic\":0,\"Manual\":1}}\n",
    "df.replace(label_encode,inplace=True)\n",
    "values = df['transmission']\n",
    "values = to_categorical(values)\n",
    "print(values)"
   ]
  },
  {
   "cell_type": "code",
   "execution_count": 11,
   "id": "a1a864e0",
   "metadata": {},
   "outputs": [
    {
     "data": {
      "text/plain": [
       "array(['First Owner', 'Fourth & Above Owner', 'Second Owner',\n",
       "       'Test Drive Car', 'Third Owner'], dtype=object)"
      ]
     },
     "execution_count": 11,
     "metadata": {},
     "output_type": "execute_result"
    }
   ],
   "source": [
    "np.unique(df.owner)"
   ]
  },
  {
   "cell_type": "code",
   "execution_count": 12,
   "id": "7b47241a",
   "metadata": {},
   "outputs": [
    {
     "name": "stdout",
     "output_type": "stream",
     "text": [
      "[[1. 0. 0. 0. 0.]\n",
      " [1. 0. 0. 0. 0.]\n",
      " [1. 0. 0. 0. 0.]\n",
      " ...\n",
      " [0. 0. 1. 0. 0.]\n",
      " [1. 0. 0. 0. 0.]\n",
      " [1. 0. 0. 0. 0.]]\n"
     ]
    }
   ],
   "source": [
    "#encoding owner\n",
    "\n",
    "label_encode = {\"owner\":{\"First Owner\":0,\"Fourth & Above Owner\":1,\"Second Owner\":2,\"Test Drive Car\":3,\"Third Owner\":4}}\n",
    "df.replace(label_encode,inplace=True)\n",
    "values = df['owner']\n",
    "values = to_categorical(values)\n",
    "print(values)"
   ]
  },
  {
   "cell_type": "markdown",
   "id": "43a2ff4a",
   "metadata": {},
   "source": [
    "Let's check how our DataFrame looks like now."
   ]
  },
  {
   "cell_type": "code",
   "execution_count": 13,
   "id": "35500c1a",
   "metadata": {},
   "outputs": [
    {
     "data": {
      "text/html": [
       "<div>\n",
       "<style scoped>\n",
       "    .dataframe tbody tr th:only-of-type {\n",
       "        vertical-align: middle;\n",
       "    }\n",
       "\n",
       "    .dataframe tbody tr th {\n",
       "        vertical-align: top;\n",
       "    }\n",
       "\n",
       "    .dataframe thead th {\n",
       "        text-align: right;\n",
       "    }\n",
       "</style>\n",
       "<table border=\"1\" class=\"dataframe\">\n",
       "  <thead>\n",
       "    <tr style=\"text-align: right;\">\n",
       "      <th></th>\n",
       "      <th>year</th>\n",
       "      <th>km_driven</th>\n",
       "      <th>fuel</th>\n",
       "      <th>seller_type</th>\n",
       "      <th>transmission</th>\n",
       "      <th>owner</th>\n",
       "      <th>selling_price</th>\n",
       "    </tr>\n",
       "  </thead>\n",
       "  <tbody>\n",
       "    <tr>\n",
       "      <th>0</th>\n",
       "      <td>2007</td>\n",
       "      <td>70000</td>\n",
       "      <td>4</td>\n",
       "      <td>1</td>\n",
       "      <td>1</td>\n",
       "      <td>0</td>\n",
       "      <td>60000</td>\n",
       "    </tr>\n",
       "    <tr>\n",
       "      <th>1</th>\n",
       "      <td>2007</td>\n",
       "      <td>50000</td>\n",
       "      <td>4</td>\n",
       "      <td>1</td>\n",
       "      <td>1</td>\n",
       "      <td>0</td>\n",
       "      <td>135000</td>\n",
       "    </tr>\n",
       "    <tr>\n",
       "      <th>2</th>\n",
       "      <td>2012</td>\n",
       "      <td>100000</td>\n",
       "      <td>1</td>\n",
       "      <td>1</td>\n",
       "      <td>1</td>\n",
       "      <td>0</td>\n",
       "      <td>600000</td>\n",
       "    </tr>\n",
       "    <tr>\n",
       "      <th>3</th>\n",
       "      <td>2017</td>\n",
       "      <td>46000</td>\n",
       "      <td>4</td>\n",
       "      <td>1</td>\n",
       "      <td>1</td>\n",
       "      <td>0</td>\n",
       "      <td>250000</td>\n",
       "    </tr>\n",
       "    <tr>\n",
       "      <th>4</th>\n",
       "      <td>2014</td>\n",
       "      <td>141000</td>\n",
       "      <td>1</td>\n",
       "      <td>1</td>\n",
       "      <td>1</td>\n",
       "      <td>2</td>\n",
       "      <td>450000</td>\n",
       "    </tr>\n",
       "    <tr>\n",
       "      <th>...</th>\n",
       "      <td>...</td>\n",
       "      <td>...</td>\n",
       "      <td>...</td>\n",
       "      <td>...</td>\n",
       "      <td>...</td>\n",
       "      <td>...</td>\n",
       "      <td>...</td>\n",
       "    </tr>\n",
       "    <tr>\n",
       "      <th>4335</th>\n",
       "      <td>2014</td>\n",
       "      <td>80000</td>\n",
       "      <td>1</td>\n",
       "      <td>1</td>\n",
       "      <td>1</td>\n",
       "      <td>2</td>\n",
       "      <td>409999</td>\n",
       "    </tr>\n",
       "    <tr>\n",
       "      <th>4336</th>\n",
       "      <td>2014</td>\n",
       "      <td>80000</td>\n",
       "      <td>1</td>\n",
       "      <td>1</td>\n",
       "      <td>1</td>\n",
       "      <td>2</td>\n",
       "      <td>409999</td>\n",
       "    </tr>\n",
       "    <tr>\n",
       "      <th>4337</th>\n",
       "      <td>2009</td>\n",
       "      <td>83000</td>\n",
       "      <td>4</td>\n",
       "      <td>1</td>\n",
       "      <td>1</td>\n",
       "      <td>2</td>\n",
       "      <td>110000</td>\n",
       "    </tr>\n",
       "    <tr>\n",
       "      <th>4338</th>\n",
       "      <td>2016</td>\n",
       "      <td>90000</td>\n",
       "      <td>1</td>\n",
       "      <td>1</td>\n",
       "      <td>1</td>\n",
       "      <td>0</td>\n",
       "      <td>865000</td>\n",
       "    </tr>\n",
       "    <tr>\n",
       "      <th>4339</th>\n",
       "      <td>2016</td>\n",
       "      <td>40000</td>\n",
       "      <td>4</td>\n",
       "      <td>1</td>\n",
       "      <td>1</td>\n",
       "      <td>0</td>\n",
       "      <td>225000</td>\n",
       "    </tr>\n",
       "  </tbody>\n",
       "</table>\n",
       "<p>4340 rows × 7 columns</p>\n",
       "</div>"
      ],
      "text/plain": [
       "      year  km_driven  fuel  seller_type  transmission  owner  selling_price\n",
       "0     2007      70000     4            1             1      0          60000\n",
       "1     2007      50000     4            1             1      0         135000\n",
       "2     2012     100000     1            1             1      0         600000\n",
       "3     2017      46000     4            1             1      0         250000\n",
       "4     2014     141000     1            1             1      2         450000\n",
       "...    ...        ...   ...          ...           ...    ...            ...\n",
       "4335  2014      80000     1            1             1      2         409999\n",
       "4336  2014      80000     1            1             1      2         409999\n",
       "4337  2009      83000     4            1             1      2         110000\n",
       "4338  2016      90000     1            1             1      0         865000\n",
       "4339  2016      40000     4            1             1      0         225000\n",
       "\n",
       "[4340 rows x 7 columns]"
      ]
     },
     "execution_count": 13,
     "metadata": {},
     "output_type": "execute_result"
    }
   ],
   "source": [
    "df"
   ]
  },
  {
   "cell_type": "code",
   "execution_count": 14,
   "id": "80c449ec",
   "metadata": {},
   "outputs": [
    {
     "data": {
      "text/plain": [
       "year             int64\n",
       "km_driven        int64\n",
       "fuel             int64\n",
       "seller_type      int64\n",
       "transmission     int64\n",
       "owner            int64\n",
       "selling_price    int64\n",
       "dtype: object"
      ]
     },
     "execution_count": 14,
     "metadata": {},
     "output_type": "execute_result"
    }
   ],
   "source": [
    "df.dtypes"
   ]
  },
  {
   "cell_type": "markdown",
   "id": "b4e6344e",
   "metadata": {},
   "source": [
    "Now we can see all our values are Integer type. Now we can proceed with making our model for predicting the car's selling price using the data in the other 6 columns other than selling_price column"
   ]
  },
  {
   "cell_type": "markdown",
   "id": "811b6c2c",
   "metadata": {},
   "source": [
    "# Drawing Interesting conclusions from our data"
   ]
  },
  {
   "cell_type": "code",
   "execution_count": 15,
   "id": "14c0cc74",
   "metadata": {},
   "outputs": [
    {
     "data": {
      "image/png": "[encoded data removed]",
      "text/plain": [
       "<Figure size 1440x576 with 1 Axes>"
      ]
     },
     "metadata": {
      "needs_background": "light"
     },
     "output_type": "display_data"
    }
   ],
   "source": [
    "#Plotting the graph \n",
    "\n",
    "x=df.km_driven\n",
    "y=df.selling_price\n",
    "plt.figure(figsize=(20,8))\n",
    "plt.xlabel(\"Kilometer Driven\" ,fontsize = 24)\n",
    "plt.ylabel(\"Selling Price\", fontsize = 24)\n",
    "plt.xticks (fontsize = 20)\n",
    "plt.yticks (fontsize = 20)\n",
    "plt.scatter(x,y)\n",
    "plt.show()"
   ]
  },
  {
   "cell_type": "markdown",
   "id": "563a8426",
   "metadata": {},
   "source": [
    "Oh! we see that most people sell cars at a price upto 20 lakhs and those cars are driven upto 2 lakh kilometers mostly."
   ]
  },
  {
   "cell_type": "code",
   "execution_count": 16,
   "id": "685a5a27",
   "metadata": {
    "scrolled": true
   },
   "outputs": [
    {
     "data": {
      "image/png": "[encoded data removed]",
      "text/plain": [
       "<Figure size 720x360 with 1 Axes>"
      ]
     },
     "metadata": {
      "needs_background": "light"
     },
     "output_type": "display_data"
    }
   ],
   "source": [
    "x=[\"CNG\",\"Diesel\",\"Electric\",\"LPG\",\"Petrol\"]\n",
    "fuel=list(df['fuel'])\n",
    "y = [fuel.count(0),fuel.count(1),fuel.count(2),fuel.count(3),fuel.count(4)]\n",
    "plt.figure(figsize=(10,5))\n",
    "plt.xlabel(\"Fuel type\" ,fontsize = 24)\n",
    "plt.ylabel(\"No. of Cars\", fontsize = 24)\n",
    "plt.xticks (fontsize = 20)\n",
    "plt.yticks (fontsize = 20)\n",
    "plt.bar(x,y,width=0.4)\n",
    "plt.show()"
   ]
  },
  {
   "cell_type": "code",
   "execution_count": 17,
   "id": "285f246e",
   "metadata": {},
   "outputs": [
    {
     "data": {
      "text/plain": [
       "[40, 2153, 1, 23, 2123]"
      ]
     },
     "execution_count": 17,
     "metadata": {},
     "output_type": "execute_result"
    }
   ],
   "source": [
    "y"
   ]
  },
  {
   "cell_type": "markdown",
   "id": "76048017",
   "metadata": {},
   "source": [
    "We can conclude cars using Petrol and Diesel are more in number than CNG, LPG and Electric cars are least in number. "
   ]
  },
  {
   "cell_type": "code",
   "execution_count": 18,
   "id": "8bef36d9",
   "metadata": {},
   "outputs": [
    {
     "data": {
      "image/png": "[encoded data removed]",
      "text/plain": [
       "<Figure size 720x360 with 1 Axes>"
      ]
     },
     "metadata": {
      "needs_background": "light"
     },
     "output_type": "display_data"
    }
   ],
   "source": [
    "x=[\"Dealer\",\"Individual\",\"Trustmark Dealer\"]\n",
    "seller=list(df['seller_type'])\n",
    "y = [seller.count(0),seller.count(1),seller.count(2)]\n",
    "plt.figure(figsize=(10,5))\n",
    "plt.xlabel(\"Seller type\" ,fontsize = 24)\n",
    "plt.ylabel(\"No. of Cars\", fontsize = 24)\n",
    "plt.xticks (fontsize = 20)\n",
    "plt.yticks (fontsize = 20)\n",
    "plt.bar(x,y,width=0.2)\n",
    "plt.show()"
   ]
  },
  {
   "cell_type": "markdown",
   "id": "000dc360",
   "metadata": {},
   "source": [
    "We can conclude that people prefer to buy old cars from an individual."
   ]
  },
  {
   "cell_type": "code",
   "execution_count": 19,
   "id": "5709dc0b",
   "metadata": {},
   "outputs": [
    {
     "data": {
      "image/png": "[encoded data removed]",
      "text/plain": [
       "<Figure size 360x360 with 1 Axes>"
      ]
     },
     "metadata": {
      "needs_background": "light"
     },
     "output_type": "display_data"
    }
   ],
   "source": [
    "x=[\"Automatic\",\"Manual\"]\n",
    "transmission=list(df['transmission'])\n",
    "y = [transmission.count(0),transmission.count(1)]\n",
    "plt.figure(figsize=(5,5))\n",
    "plt.xlabel(\"Transmission type\" ,fontsize = 24)\n",
    "plt.ylabel(\"No. of Cars\", fontsize = 24)\n",
    "plt.xticks (fontsize = 20)\n",
    "plt.yticks (fontsize = 20)\n",
    "plt.bar(x,y,width=0.1)\n",
    "plt.show()"
   ]
  },
  {
   "cell_type": "markdown",
   "id": "7d184845",
   "metadata": {},
   "source": [
    "We can conclude that people prefer to buy cars which have Manual transmission"
   ]
  },
  {
   "cell_type": "code",
   "execution_count": 20,
   "id": "b8bde827",
   "metadata": {},
   "outputs": [
    {
     "data": {
      "image/png": "[encoded data removed]",
      "text/plain": [
       "<Figure size 864x432 with 1 Axes>"
      ]
     },
     "metadata": {
      "needs_background": "light"
     },
     "output_type": "display_data"
    }
   ],
   "source": [
    "x=[\"First Owner\",\"Fourth & Above Owner\",\"Second Owner\",\"Test Drive Car\",\"Third Owner\"]\n",
    "owner=list(df['owner'])\n",
    "y = [owner.count(0),owner.count(1),owner.count(2),owner.count(3),owner.count(4)]\n",
    "plt.figure(figsize=(12,6))\n",
    "plt.xlabel(\"Owner type\" ,fontsize = 24)\n",
    "plt.ylabel(\"No. of Cars\", fontsize = 24)\n",
    "plt.xticks (fontsize = 15)\n",
    "plt.yticks (fontsize = 15)\n",
    "plt.bar(x,y,width=0.3)\n",
    "plt.show()"
   ]
  },
  {
   "cell_type": "markdown",
   "id": "2e10c35b",
   "metadata": {},
   "source": [
    "We can conclue that firstly before selling the car ,owners were mostly First Owners"
   ]
  },
  {
   "cell_type": "markdown",
   "id": "cd6f8d60",
   "metadata": {},
   "source": [
    "# Checking for Erroneous data"
   ]
  },
  {
   "cell_type": "markdown",
   "id": "7f9ad8f6",
   "metadata": {},
   "source": [
    "To check for outliers and Erroneous data we will plot graphs . We will also Draw Interesting conclusions from our data here also."
   ]
  },
  {
   "cell_type": "code",
   "execution_count": 21,
   "id": "10fdc7c6",
   "metadata": {},
   "outputs": [
    {
     "name": "stdout",
     "output_type": "stream",
     "text": [
      "4340\n"
     ]
    },
    {
     "data": {
      "image/png": "[encoded data removed]",
      "text/plain": [
       "<Figure size 1800x720 with 1 Axes>"
      ]
     },
     "metadata": {
      "needs_background": "light"
     },
     "output_type": "display_data"
    }
   ],
   "source": [
    "#creating a array of 4340 values ranging from 1 to 4340 \n",
    "vehicle_id=[]\n",
    "i=0\n",
    "for items in df.selling_price:\n",
    "    i=i+1\n",
    "    vehicle_id.append(i)\n",
    "\n",
    "    \n",
    "#check if the array has 4340 items    \n",
    "print(len(vehicle_id))  \n",
    "\n",
    "\n",
    "#Plotting the graph to compare between data in selling_price column\n",
    "y=df.selling_price\n",
    "plt.figure(figsize=(25,10))\n",
    "plt.xlabel(\"vehilcle Id (1---4340)\" ,fontsize = 24)\n",
    "plt.ylabel(\"Selling Price\", fontsize = 24)\n",
    "plt.xticks (fontsize = 20)\n",
    "plt.yticks (fontsize = 20)\n",
    "plt.scatter(vehicle_id,y)\n",
    "plt.show()"
   ]
  },
  {
   "cell_type": "code",
   "execution_count": 22,
   "id": "8d4e741a",
   "metadata": {},
   "outputs": [
    {
     "name": "stdout",
     "output_type": "stream",
     "text": [
      "Done...\n"
     ]
    }
   ],
   "source": [
    "for item in df.selling_price:\n",
    "    if item<=0:\n",
    "        print(item)\n",
    "print(\"Done...\")   "
   ]
  },
  {
   "cell_type": "markdown",
   "id": "2164e263",
   "metadata": {},
   "source": [
    "We clearly see there is no Erroneous data in selling_price column. We can see most of the cars are priced below 20 lakhs . Lets plot a boxplot to verify this. "
   ]
  },
  {
   "cell_type": "code",
   "execution_count": 23,
   "id": "8193fe69",
   "metadata": {},
   "outputs": [
    {
     "data": {
      "image/png": "[encoded data removed]",
      "text/plain": [
       "<Figure size 360x360 with 1 Axes>"
      ]
     },
     "metadata": {
      "needs_background": "light"
     },
     "output_type": "display_data"
    }
   ],
   "source": [
    "#plotting the boxplot\n",
    "\n",
    "plt.figure(figsize=(5,5))\n",
    "plt.ylabel(\"Selling Price\", fontsize = 24)\n",
    "plt.xticks (fontsize = 20)\n",
    "plt.yticks (fontsize = 20)\n",
    "plt.boxplot(y)\n",
    "plt.show()"
   ]
  },
  {
   "cell_type": "markdown",
   "id": "a8150be4",
   "metadata": {},
   "source": [
    "Yes we are right that most of the data is concentrated between 0 to 20 lakhs . Now lets find the exact values for minimum , maximum and mean for selling_price column."
   ]
  },
  {
   "cell_type": "code",
   "execution_count": 24,
   "id": "759aab50",
   "metadata": {},
   "outputs": [
    {
     "data": {
      "text/plain": [
       "mean    5.041273e+05\n",
       "min     2.000000e+04\n",
       "max     8.900000e+06\n",
       "Name: selling_price, dtype: float64"
      ]
     },
     "execution_count": 24,
     "metadata": {},
     "output_type": "execute_result"
    }
   ],
   "source": [
    "df['selling_price'].describe().loc[['mean','min','max']]"
   ]
  },
  {
   "cell_type": "markdown",
   "id": "509e5207",
   "metadata": {},
   "source": [
    "We see our minimum selling price is 20000 and maximum selling price is 89 lakhs and our mean is around 5 lakh . Now lets check for Km_driven"
   ]
  },
  {
   "cell_type": "code",
   "execution_count": 25,
   "id": "75085afe",
   "metadata": {},
   "outputs": [
    {
     "data": {
      "image/png": "[encoded data removed]",
      "text/plain": [
       "<Figure size 1440x720 with 1 Axes>"
      ]
     },
     "metadata": {
      "needs_background": "light"
     },
     "output_type": "display_data"
    }
   ],
   "source": [
    "#Plotting the graph to compare between data in km_driven column\n",
    "\n",
    "y=df.km_driven\n",
    "plt.figure(figsize=(20,10))\n",
    "plt.xlabel(\"vehilcle Id (0---4339)\" ,fontsize = 24)\n",
    "plt.ylabel(\"Km Driven\", fontsize = 24)\n",
    "plt.xticks (fontsize = 20)\n",
    "plt.yticks (fontsize = 20)\n",
    "plt.scatter(vehicle_id,y)#using variable vehicle ID defined Earlier \n",
    "plt.show()"
   ]
  },
  {
   "cell_type": "code",
   "execution_count": 26,
   "id": "a9a52afe",
   "metadata": {},
   "outputs": [
    {
     "name": "stdout",
     "output_type": "stream",
     "text": [
      "Done...\n"
     ]
    }
   ],
   "source": [
    "for item in df.km_driven:\n",
    "    if item<=0:\n",
    "        print(item)\n",
    "print(\"Done...\")        "
   ]
  },
  {
   "cell_type": "markdown",
   "id": "44cf2f7a",
   "metadata": {},
   "source": [
    "We clearly see there is no Erroneous data in km_driven column. We can see most of the cars are driven upto 2 lakh Kilometers. Lets plot a boxplot to verify this. "
   ]
  },
  {
   "cell_type": "code",
   "execution_count": 27,
   "id": "03e24b71",
   "metadata": {},
   "outputs": [
    {
     "data": {
      "image/png": "[encoded data removed]",
      "text/plain": [
       "<Figure size 360x360 with 1 Axes>"
      ]
     },
     "metadata": {
      "needs_background": "light"
     },
     "output_type": "display_data"
    }
   ],
   "source": [
    "#plotting the boxplot\n",
    "\n",
    "plt.figure(figsize=(5,5))\n",
    "plt.ylabel(\"km_driven\", fontsize = 24)\n",
    "plt.xticks (fontsize = 20)\n",
    "plt.yticks (fontsize = 20)\n",
    "plt.boxplot(y)\n",
    "plt.show()"
   ]
  },
  {
   "cell_type": "markdown",
   "id": "6fccf49f",
   "metadata": {},
   "source": [
    "Yes we are right that most of the data is concentrated between 0 to 2 lakh . Now lets find the exact values for minimum , maximum and mean of km_driven column."
   ]
  },
  {
   "cell_type": "code",
   "execution_count": 28,
   "id": "3f7c4afb",
   "metadata": {},
   "outputs": [
    {
     "data": {
      "text/plain": [
       "mean     66215.777419\n",
       "min          1.000000\n",
       "max     806599.000000\n",
       "Name: km_driven, dtype: float64"
      ]
     },
     "execution_count": 28,
     "metadata": {},
     "output_type": "execute_result"
    }
   ],
   "source": [
    "df['km_driven'].describe().loc[['mean','min','max']]"
   ]
  },
  {
   "cell_type": "markdown",
   "id": "696ec068",
   "metadata": {},
   "source": [
    "We see our minimum kilometer driven is 1 Km and maximum kilometer driven is around 8 lakhs and our mean is around 66 thousand ."
   ]
  },
  {
   "cell_type": "markdown",
   "id": "5161536e",
   "metadata": {},
   "source": [
    "# Creating our model for predicting the selling price of a car"
   ]
  },
  {
   "cell_type": "markdown",
   "id": "45f298d4",
   "metadata": {},
   "source": [
    "Here , we will use KNN classifier , You can change the values and check the predictions."
   ]
  },
  {
   "cell_type": "code",
   "execution_count": 29,
   "id": "62985f2a",
   "metadata": {},
   "outputs": [
    {
     "name": "stdout",
     "output_type": "stream",
     "text": [
      "12.649769585253456\n",
      "12.211981566820276\n",
      "13.294930875576036\n",
      "11.935483870967742\n",
      "11.152073732718893\n",
      "11.797235023041475\n",
      "12.995391705069123\n",
      "13.963133640552996\n"
     ]
    }
   ],
   "source": [
    "bins=[0,125000,200000,280000,350000,450000,590000,799000,8900000]\n",
    "labels=[1,2,3,4,5,6,7,8]\n",
    "df['sp_new']=pd.cut(df['selling_price'],bins=bins,labels=labels)\n",
    "\n",
    "\n",
    "print((list(df['sp_new']).count(1)/4340)*100)\n",
    "print((list(df['sp_new']).count(2)/4340)*100)\n",
    "print((list(df['sp_new']).count(3)/4340)*100)\n",
    "print((list(df['sp_new']).count(4)/4340)*100)\n",
    "print((list(df['sp_new']).count(5)/4340)*100)\n",
    "print((list(df['sp_new']).count(6)/4340)*100)\n",
    "print((list(df['sp_new']).count(7)/4340)*100)\n",
    "print((list(df['sp_new']).count(8)/4340)*100)"
   ]
  },
  {
   "cell_type": "code",
   "execution_count": 30,
   "id": "cde0bda5",
   "metadata": {},
   "outputs": [
    {
     "name": "stdout",
     "output_type": "stream",
     "text": [
      "11.129032258064516\n",
      "12.28110599078341\n",
      "12.211981566820276\n",
      "12.557603686635947\n",
      "14.562211981566819\n",
      "10.55299539170507\n",
      "14.170506912442397\n",
      "12.534562211981568\n"
     ]
    }
   ],
   "source": [
    "bins=[0,19000,31000,46000,58000,70000,89000,110000,890000]\n",
    "labels=[1,2,3,4,5,6,7,8]\n",
    "df['km_new']=pd.cut(df['km_driven'],bins=bins,labels=labels)\n",
    "\n",
    "\n",
    "print((list(df['km_new']).count(1)/4340)*100)\n",
    "print((list(df['km_new']).count(2)/4340)*100)\n",
    "print((list(df['km_new']).count(3)/4340)*100)\n",
    "print((list(df['km_new']).count(4)/4340)*100)\n",
    "print((list(df['km_new']).count(5)/4340)*100)\n",
    "print((list(df['km_new']).count(6)/4340)*100)\n",
    "print((list(df['km_new']).count(7)/4340)*100)\n",
    "print((list(df['km_new']).count(8)/4340)*100)"
   ]
  },
  {
   "cell_type": "code",
   "execution_count": 58,
   "id": "dda4f048",
   "metadata": {},
   "outputs": [
    {
     "name": "stdout",
     "output_type": "stream",
     "text": [
      "The predicted selling price of the car is [3 3 7 6 5 6 5 4 1 6 8 6 4 2 1 5 8 7 8 2 5 1 4 5 7 6 7 8 1 2 8 5 1 1 6 5 7\n",
      " 7 4 2 4 4 7 6 8 5 5 1 8 7 5 2 4 4 2 4 4 4 2 4 7 4 3 4 1 8 5 3 2 3 4 5 6 4\n",
      " 1 5 3 1 5 8 1 6 1 2 2 2 3 2 4 6 8 6 3 6 1 7 4 7 3 1 8 5 3 3 6 4 6 3 2 6 2\n",
      " 5 8 1 1 1 6 8 6 1 2 1 7 8 5 4 3 5 4 5 2 5 6 1 5 3 6 5 8 4 5 7 5 5 3 4 8 4\n",
      " 2 7 3 1 7 2 4 5 5 1 4 4 4 4 4 8 3 3 7 8 3 4 6 2 3 1 8 3 3 3 4 3 6 1 7 7 6\n",
      " 3 7 7 4 3 1 1 2 3 7 8 8 5 1 7 7 6 3 1 2 2 2 8 7 5 3 1 3 4 2 8 1 4 8 6 5 4\n",
      " 4 6 3 5 7 3 3 4 1 5 3 5 3 1 7 2 8 1 7 8 7 4 4 4 3 1 2 8 6 4 3 6 4 6 6 8 1\n",
      " 6 5 3 3 8 3 5 2 8 4 8 8 1 3 7 1 6 1 1 4 4 2 4 8 2 6 1 8 3 7 1 3 7 6 3 4 4\n",
      " 2 6 1 3 7 2 3 8 8 5 4 2 1 8 2 8 8 3 2 8 7 5 7 5 3 8 6 1 8 1 6 4 5 8 5 7 2\n",
      " 2 3 3 2 5 8 2 6 2 4 1 2 6 2 5 4 4 1 8 7 6 7 1 3 1 1 6 6 1 3 8 3 4 4 1 4 5\n",
      " 4 3 8 2 5 8 1 8 8 7 6 1 5 8 7 8 7 6 4 1 3 3 2 4 7 8 4 8 2 7 5 5 2 6 8 2 5\n",
      " 6 5 4 2 4 1 4 1 6 4 8 5 8 1 6 5 4 1 1 4 2 6 6 5 6 5 1]\n"
     ]
    }
   ],
   "source": [
    "# Initialise the KNeighborsClassifier\n",
    "KNN = KNeighborsClassifier()\n",
    "\n",
    "# Extract out the x values and y values\n",
    "x = df[['year','km_new','fuel','seller_type','transmission','owner']]\n",
    "standardise = StandardScaler() \n",
    "x = standardise.fit_transform(x)\n",
    "y = df['sp_new']\n",
    "\n",
    "x_train, x_test, y_train, y_test = train_test_split(x,y,test_size=0.1,random_state=110)\n",
    "x_train = standardise.fit_transform(x_train)\n",
    "x_test = standardise.transform(x_test)\n",
    "\n",
    "# Train KNN using the x and y values.\n",
    "KNN = KNN.fit(x_train,y_train)\n",
    "predict_price = KNN.predict(x_test)\n",
    "print(f\"The predicted selling price of the car is {predict_price}\")"
   ]
  },
  {
   "cell_type": "markdown",
   "id": "82149393",
   "metadata": {},
   "source": [
    "# Checking the accuracy"
   ]
  },
  {
   "cell_type": "code",
   "execution_count": 59,
   "id": "af2ee2b4",
   "metadata": {},
   "outputs": [
    {
     "data": {
      "text/plain": [
       "y_test        category\n",
       "prediction       int64\n",
       "dtype: object"
      ]
     },
     "execution_count": 59,
     "metadata": {},
     "output_type": "execute_result"
    }
   ],
   "source": [
    "y_df=pd.DataFrame()\n",
    "y_df['y_test']=y_test\n",
    "y_df['prediction']=predict_price\n",
    "y_df.dtypes"
   ]
  },
  {
   "cell_type": "code",
   "execution_count": 60,
   "id": "ca314929",
   "metadata": {},
   "outputs": [],
   "source": [
    "y_df=y_df.astype(int)"
   ]
  },
  {
   "cell_type": "code",
   "execution_count": 61,
   "id": "335100c4",
   "metadata": {},
   "outputs": [
    {
     "name": "stdout",
     "output_type": "stream",
     "text": [
      "<class 'pandas.core.frame.DataFrame'>\n",
      "Int64Index: 434 entries, 3201 to 1488\n",
      "Data columns (total 2 columns):\n",
      " #   Column      Non-Null Count  Dtype\n",
      "---  ------      --------------  -----\n",
      " 0   y_test      434 non-null    int32\n",
      " 1   prediction  434 non-null    int32\n",
      "dtypes: int32(2)\n",
      "memory usage: 6.8 KB\n"
     ]
    }
   ],
   "source": [
    "y_df.info()"
   ]
  },
  {
   "cell_type": "code",
   "execution_count": 62,
   "id": "14cb3cc6",
   "metadata": {},
   "outputs": [],
   "source": [
    "y_df['diff']=y_df['prediction']-y_df['y_test']"
   ]
  },
  {
   "cell_type": "code",
   "execution_count": 63,
   "id": "a41cbc89",
   "metadata": {},
   "outputs": [
    {
     "data": {
      "text/html": [
       "<div>\n",
       "<style scoped>\n",
       "    .dataframe tbody tr th:only-of-type {\n",
       "        vertical-align: middle;\n",
       "    }\n",
       "\n",
       "    .dataframe tbody tr th {\n",
       "        vertical-align: top;\n",
       "    }\n",
       "\n",
       "    .dataframe thead th {\n",
       "        text-align: right;\n",
       "    }\n",
       "</style>\n",
       "<table border=\"1\" class=\"dataframe\">\n",
       "  <thead>\n",
       "    <tr style=\"text-align: right;\">\n",
       "      <th></th>\n",
       "      <th>y_test</th>\n",
       "      <th>prediction</th>\n",
       "      <th>diff</th>\n",
       "    </tr>\n",
       "  </thead>\n",
       "  <tbody>\n",
       "    <tr>\n",
       "      <th>3201</th>\n",
       "      <td>3</td>\n",
       "      <td>3</td>\n",
       "      <td>0</td>\n",
       "    </tr>\n",
       "    <tr>\n",
       "      <th>4281</th>\n",
       "      <td>2</td>\n",
       "      <td>3</td>\n",
       "      <td>1</td>\n",
       "    </tr>\n",
       "    <tr>\n",
       "      <th>3306</th>\n",
       "      <td>8</td>\n",
       "      <td>7</td>\n",
       "      <td>-1</td>\n",
       "    </tr>\n",
       "    <tr>\n",
       "      <th>2781</th>\n",
       "      <td>6</td>\n",
       "      <td>6</td>\n",
       "      <td>0</td>\n",
       "    </tr>\n",
       "    <tr>\n",
       "      <th>654</th>\n",
       "      <td>6</td>\n",
       "      <td>5</td>\n",
       "      <td>-1</td>\n",
       "    </tr>\n",
       "    <tr>\n",
       "      <th>...</th>\n",
       "      <td>...</td>\n",
       "      <td>...</td>\n",
       "      <td>...</td>\n",
       "    </tr>\n",
       "    <tr>\n",
       "      <th>1541</th>\n",
       "      <td>4</td>\n",
       "      <td>6</td>\n",
       "      <td>2</td>\n",
       "    </tr>\n",
       "    <tr>\n",
       "      <th>4235</th>\n",
       "      <td>3</td>\n",
       "      <td>5</td>\n",
       "      <td>2</td>\n",
       "    </tr>\n",
       "    <tr>\n",
       "      <th>2827</th>\n",
       "      <td>1</td>\n",
       "      <td>6</td>\n",
       "      <td>5</td>\n",
       "    </tr>\n",
       "    <tr>\n",
       "      <th>33</th>\n",
       "      <td>8</td>\n",
       "      <td>5</td>\n",
       "      <td>-3</td>\n",
       "    </tr>\n",
       "    <tr>\n",
       "      <th>1488</th>\n",
       "      <td>1</td>\n",
       "      <td>1</td>\n",
       "      <td>0</td>\n",
       "    </tr>\n",
       "  </tbody>\n",
       "</table>\n",
       "<p>434 rows × 3 columns</p>\n",
       "</div>"
      ],
      "text/plain": [
       "      y_test  prediction  diff\n",
       "3201       3           3     0\n",
       "4281       2           3     1\n",
       "3306       8           7    -1\n",
       "2781       6           6     0\n",
       "654        6           5    -1\n",
       "...      ...         ...   ...\n",
       "1541       4           6     2\n",
       "4235       3           5     2\n",
       "2827       1           6     5\n",
       "33         8           5    -3\n",
       "1488       1           1     0\n",
       "\n",
       "[434 rows x 3 columns]"
      ]
     },
     "execution_count": 63,
     "metadata": {},
     "output_type": "execute_result"
    }
   ],
   "source": [
    "y_df"
   ]
  },
  {
   "cell_type": "code",
   "execution_count": 64,
   "id": "6a4ce647",
   "metadata": {},
   "outputs": [
    {
     "name": "stdout",
     "output_type": "stream",
     "text": [
      "Accuracy:  37.327188940092164\n"
     ]
    }
   ],
   "source": [
    "print(\"Accuracy: \",(list(y_df['diff']).count(0)/len(y_test))*100)# print accuracy"
   ]
  },
  {
   "cell_type": "markdown",
   "id": "bad81fee",
   "metadata": {},
   "source": [
    "I know the accuracy is too less but that's the best i could do :) Initially i was getting 0 percent accuracy , I made it from 0 to 40 percent :) This is what happened when i tried for neural network ,i got an accuracy of 0, so i switched to KNN ."
   ]
  },
  {
   "cell_type": "markdown",
   "id": "abe75d92",
   "metadata": {},
   "source": [
    "# THE END - Developed By Mohnish Mahapatra "
   ]
  },
  {
   "cell_type": "code",
   "execution_count": 65,
   "id": "0d284019",
   "metadata": {},
   "outputs": [],
   "source": [
    "# from keras import Sequential\n",
    "# from keras.layers import Dense, Dropout, Activation, Flatten\n",
    "from keras.layers import Convolution1D\n",
    "from keras.layers import Dense, Dropout, Activation, Flatten\n",
    "from keras import Sequential"
   ]
  },
  {
   "cell_type": "code",
   "execution_count": 66,
   "id": "811f795a",
   "metadata": {},
   "outputs": [],
   "source": [
    "nb_filters=1\n",
    "kernel_size=1\n",
    "input_shape=(1,6)\n",
    "pool_size=0"
   ]
  },
  {
   "cell_type": "code",
   "execution_count": 97,
   "id": "dc2e1642",
   "metadata": {},
   "outputs": [],
   "source": [
    "model = Sequential() \n",
    "model.add(Dense(2,input_shape=input_shape,activation='softmax'))\n",
    "model.add(Convolution1D(nb_filters, kernel_size, padding='same'))\n",
    "model.add(Activation('softmax'))\n",
    "model.add(Convolution1D(nb_filters, kernel_size))\n",
    "model.add(Activation('softmax')) \n",
    "# model.add(MaxPooling1D(pool_size=pool_size)) \n",
    "# model.add(Dropout(0.25)) "
   ]
  },
  {
   "cell_type": "code",
   "execution_count": 105,
   "id": "af8f65fb",
   "metadata": {},
   "outputs": [],
   "source": [
    "model = Sequential()\n",
    "model.add(Dense(2,input_dim=6,activation='sigmoid'))\n",
    "model.add(Dense(2,activation='tanh'))\n",
    "model.add(Dense(1,activation='softmax'))\n",
    "model.compile(optimizer='adam',loss='categorical_crossentropy',metrics=['accuracy'])"
   ]
  },
  {
   "cell_type": "code",
   "execution_count": 106,
   "id": "71a18a9e",
   "metadata": {},
   "outputs": [
    {
     "name": "stdout",
     "output_type": "stream",
     "text": [
      "Model: \"sequential_18\"\n",
      "_________________________________________________________________\n",
      " Layer (type)                Output Shape              Param #   \n",
      "=================================================================\n",
      " dense_8 (Dense)             (None, 2)                 14        \n",
      "                                                                 \n",
      " dense_9 (Dense)             (None, 2)                 6         \n",
      "                                                                 \n",
      " dense_10 (Dense)            (None, 1)                 3         \n",
      "                                                                 \n",
      "=================================================================\n",
      "Total params: 23\n",
      "Trainable params: 23\n",
      "Non-trainable params: 0\n",
      "_________________________________________________________________\n"
     ]
    }
   ],
   "source": [
    "model.summary()"
   ]
  },
  {
   "cell_type": "code",
   "execution_count": 107,
   "id": "f2e4208e",
   "metadata": {},
   "outputs": [],
   "source": [
    "model.compile(optimizer=\"adam\",loss=\"categorical_crossentropy\",metrics=[\"accuracy\"])"
   ]
  },
  {
   "cell_type": "code",
   "execution_count": 108,
   "id": "d6e382c7",
   "metadata": {},
   "outputs": [
    {
     "data": {
      "text/plain": [
       "TensorShape([None, 6])"
      ]
     },
     "execution_count": 108,
     "metadata": {},
     "output_type": "execute_result"
    }
   ],
   "source": [
    "model.input.shape"
   ]
  },
  {
   "cell_type": "code",
   "execution_count": 109,
   "id": "2a41399e",
   "metadata": {},
   "outputs": [],
   "source": [
    "#x_train=x_train.reshape(3906,6)"
   ]
  },
  {
   "cell_type": "code",
   "execution_count": 110,
   "id": "bb1068f4",
   "metadata": {},
   "outputs": [],
   "source": [
    "#x_train"
   ]
  },
  {
   "cell_type": "code",
   "execution_count": null,
   "id": "5b819ede",
   "metadata": {},
   "outputs": [
    {
     "name": "stdout",
     "output_type": "stream",
     "text": [
      "Epoch 1/200\n",
      "3906/3906 [==============================] - 18s 3ms/step - loss: 0.0000e+00 - accuracy: 0.1303\n",
      "Epoch 2/200\n",
      "3906/3906 [==============================] - 13s 3ms/step - loss: 0.0000e+00 - accuracy: 0.1303\n",
      "Epoch 3/200\n",
      "3906/3906 [==============================] - 13s 3ms/step - loss: 0.0000e+00 - accuracy: 0.1303\n",
      "Epoch 4/200\n",
      "3906/3906 [==============================] - 16s 4ms/step - loss: 0.0000e+00 - accuracy: 0.1303\n",
      "Epoch 5/200\n",
      "3906/3906 [==============================] - 15s 4ms/step - loss: 0.0000e+00 - accuracy: 0.1303\n",
      "Epoch 6/200\n",
      "3906/3906 [==============================] - 12s 3ms/step - loss: 0.0000e+00 - accuracy: 0.1303\n",
      "Epoch 7/200\n",
      "3906/3906 [==============================] - 13s 3ms/step - loss: 0.0000e+00 - accuracy: 0.1303\n",
      "Epoch 8/200\n",
      "3906/3906 [==============================] - 14s 4ms/step - loss: 0.0000e+00 - accuracy: 0.1303\n",
      "Epoch 9/200\n",
      "3906/3906 [==============================] - 15s 4ms/step - loss: 0.0000e+00 - accuracy: 0.1303\n",
      "Epoch 10/200\n",
      "3906/3906 [==============================] - 15s 4ms/step - loss: 0.0000e+00 - accuracy: 0.1303\n",
      "Epoch 11/200\n",
      "3906/3906 [==============================] - 15s 4ms/step - loss: 0.0000e+00 - accuracy: 0.1303\n",
      "Epoch 12/200\n",
      "3906/3906 [==============================] - 14s 4ms/step - loss: 0.0000e+00 - accuracy: 0.1303\n",
      "Epoch 13/200\n",
      "3906/3906 [==============================] - 14s 3ms/step - loss: 0.0000e+00 - accuracy: 0.1303\n",
      "Epoch 14/200\n",
      "1325/3906 [=========>....................] - ETA: 11s - loss: 0.0000e+00 - accuracy: 0.1396"
     ]
    }
   ],
   "source": [
    "model.fit(x_train,y_train,epochs=200,shuffle=True, batch_size=1)"
   ]
  },
  {
   "cell_type": "code",
   "execution_count": null,
   "id": "4ffa6f37",
   "metadata": {},
   "outputs": [],
   "source": []
  }
 ],
 "metadata": {
  "kernelspec": {
   "display_name": "Python 3 (ipykernel)",
   "language": "python",
   "name": "python3"
  },
  "language_info": {
   "codemirror_mode": {
    "name": "ipython",
    "version": 3
   },
   "file_extension": ".py",
   "mimetype": "text/x-python",
   "name": "python",
   "nbconvert_exporter": "python",
   "pygments_lexer": "ipython3",
   "version": "3.9.12"
  }
 },
 "nbformat": 4,
 "nbformat_minor": 5
}
